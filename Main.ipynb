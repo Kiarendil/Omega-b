{
 "cells": [
  {
   "cell_type": "markdown",
   "metadata": {},
   "source": [
    "# Script for analysis a ROOT file (a ROOT tree)"
   ]
  },
  {
   "cell_type": "markdown",
   "metadata": {},
   "source": [
    "## Import libraries, files and etc"
   ]
  },
  {
   "cell_type": "code",
   "execution_count": 1,
   "metadata": {},
   "outputs": [
    {
     "name": "stdout",
     "output_type": "stream",
     "text": [
      "Welcome to JupyROOT 6.18/00\n"
     ]
    }
   ],
   "source": [
    "import ROOT\n",
    "import variables as v\n",
    "import re\n",
    "from IPython.display import Image, display\n",
    "# import numpy as np\n",
    "# import glob\n",
    "\n",
    "path_png = 'images/png/'\n",
    "path_pdf = 'images/pdf/'\n",
    "\n",
    "###### VAR INITIALIZATION ########\n",
    "\n",
    "OMG_mass_old       = ROOT.RooRealVar('OMG_mass_old'   , 'M(#Lambda K^{-}), [GeV]', 1.61, 1.75)\n",
    "OMB_pt_Cjp         = ROOT.RooRealVar('OMB_pt_Cjp'   , 'p_T(#Omega_b^{-}), [GeV]', 0, 500)\n",
    "OMG_OMBcos2        = ROOT.RooRealVar('OMG_OMBcos2'  , 'cos(#Lambda, #Omega)'        , -1, 1)\n",
    "OMG_KA_charge      = ROOT.RooRealVar('OMG_KA_charge'  , 'q(K_{#Omega^{-})'        , -1, 1)\n",
    "LAM_mass           = ROOT.RooRealVar('LAM_mass'       , 'M(#Lambda), [GeV]'        , 1.08, 1.17)\n",
    "\n",
    "\n",
    "# Add aditional vars you need for analysis and event selection  \n",
    "\n",
    "#### CMS_picture setting, do not tourch ####\n",
    "\n",
    "CMS_picture = True\n",
    "lumi_13TeV = {2012: 19.6, 2016: 36.295, 2017: 42.14, 2018: 61.31}\n",
    "isMC = 0\n",
    "filename = '4-m_OmegaBToOmegaPsi-2017-2018'\n",
    "years_list = [int(item) for item in re.findall(r'\\d{4}', filename)]\n",
    "years = {2012: '', 2016: '', 2017: '', 2018: ''}\n",
    "for i in range(len(years_list)):\n",
    "    if years_list[i] in years:\n",
    "        years[years_list[i]] = str(years_list[i])[-2:]\n",
    "#         analysis_number += '-' + years[years_list[i]]\n",
    "\n",
    "if CMS_picture == True:\n",
    "    import CMS_style\n",
    "    lumi = 0\n",
    "    for year in years_list:\n",
    "        if years[year]:\n",
    "            lumi += lumi_13TeV[year]\n",
    "    if len(years_list) == 3:\n",
    "        lumi = round(lumi)\n",
    "    else:\n",
    "        lumi = round(lumi, 1)\n",
    "    \n",
    "    CMS_style.lumi_13TeV = str(lumi) + ' fb^{-1}'\n",
    "    # CMS_lumi.extraText       = 'Preliminary'"
   ]
  },
  {
   "cell_type": "markdown",
   "metadata": {},
   "source": [
    "Creating a dataset **ds_imported** with variables **varset** from a _mytree_ in a .root file"
   ]
  },
  {
   "cell_type": "code",
   "execution_count": 2,
   "metadata": {},
   "outputs": [
    {
     "name": "stdout",
     "output_type": "stream",
     "text": [
      "[#1] INFO:Eval -- RooTreeDataStore::loadValues(dataR) Ignored 81 out of range events\n",
      "RooDataSet::dataR[OMG_mass_old,OMB_pt_Cjp,OMG_OMBcos2,OMG_KA_charge,LAM_mass,LAM_PR_charge] = 602348 entries\n",
      "[#1] INFO:Eval -- RooTreeDataStore::loadValues(dataW) Ignored 81 out of range events\n",
      "RooDataSet::dataW[OMG_mass_old,OMB_pt_Cjp,OMG_OMBcos2,OMG_KA_charge,LAM_mass,LAM_PR_charge] = 602348 entries\n"
     ]
    }
   ],
   "source": [
    "file = ROOT.TFile(filename + '.root')\n",
    "\n",
    "varset = ROOT.RooArgSet(OMG_mass_old, OMB_pt_Cjp, OMG_OMBcos2, OMG_KA_charge, \n",
    "#       \n",
    "                       ) \n",
    "varset.add(ROOT.RooArgSet(OMG_KA_charge, LAM_mass, LAM_PR_charge,\n",
    "#                          \n",
    "                        ))\n",
    "\n",
    "ds_importedR = ROOT.RooDataSet('dataR', '', file.Get('mytree'), varset)\n",
    "ds_importedR.Print()\n",
    "ds_importedW = ROOT.RooDataSet('dataW', '', file.Get('mytree'), varset)\n",
    "ds_importedW.Print()\n",
    "file.Close()"
   ]
  },
  {
   "cell_type": "markdown",
   "metadata": {},
   "source": [
    "Creating **cut_summary** string from **cuts_list** of each variable"
   ]
  },
  {
   "cell_type": "code",
   "execution_count": 9,
   "metadata": {},
   "outputs": [
    {
     "name": "stdout",
     "output_type": "stream",
     "text": [
      "LAM_mass > 1.105683 && LAM_mass < 1.125683 && OMB_pt_Cjp > 10\n"
     ]
    }
   ],
   "source": [
    "cuts_list = []\n",
    "# cut_jpsi = f'Jpsi_Psi2S_mass_Cmumu > {v.PDG_JPSI_MASS - 0.1} && Jpsi_Psi2S_mass_Cmumu < {round(v.PDG_JPSI_MASS + 0.1, 9)}'\n",
    "# cut_psi2s = f'Jpsi_Psi2S_mass_Cmumu > {round(v.PDG_PSI2S_MASS - 0.075, 9)} && Jpsi_Psi2S_mass_Cmumu < {round(v.PDG_PSI2S_MASS + 0.075, 9)}'\n",
    "# cuts_list.append(f'OMG_mass_old > {1.67245 - 0.007} && OMG_mass_old < {round(1.67245 + 0.007, 9)}')\n",
    "cuts_list.append(f'LAM_mass > {v.PDG_LAMBDA_MASS - 0.01} && LAM_mass < {v.PDG_LAMBDA_MASS + 0.01}')\n",
    "cuts_list.append('OMB_pt_Cjp > 10')\n",
    "\n",
    "# cut_psi = '((' + cut_jpsi + ') || (' + cut_psi2s + '))'\n",
    "# cuts_list.append(cut_psi)\n",
    "# cuts_list.append(cut_jpsi)\n",
    "\n",
    "# cut_xi = f'(XI_lamk_mass < {1.32202 - 0.00822} || XI_lamk_mass > {1.32202 + 0.00822})'\n",
    "# # cuts_list.append(cut_xi)\n",
    "\n",
    "#\n",
    "### HERE you can add you own cuts!\n",
    "#\n",
    "\n",
    "# create cut_summary\n",
    "cut_summary = cuts_list[0] + ' && ' + cuts_list[1]\n",
    "for a_cut in cuts_list[2:]:\n",
    "    cut_summary += ' && ' + a_cut\n",
    "#     cut_summary += a_cut + ' && '\n",
    "print(cut_summary)"
   ]
  },
  {
   "cell_type": "markdown",
   "metadata": {},
   "source": [
    "Reducing **ds_imported** with a _cut_summary_, creating **ds_cutted**\n",
    "\n",
    "Saving our cutted file into **fileOUT** as _TTree_"
   ]
  },
  {
   "cell_type": "code",
   "execution_count": 10,
   "metadata": {},
   "outputs": [
    {
     "name": "stdout",
     "output_type": "stream",
     "text": [
      "RooDataSet::dataR[OMG_mass_old,OMB_pt_Cjp,OMG_OMBcos2,OMG_KA_charge,LAM_mass,LAM_PR_charge] = 502771 entries\n"
     ]
    }
   ],
   "source": [
    "ds_cutted_Right = ds_importedR.reduce(cut_summary)\n",
    "ds_cutted_Right.Print()\n",
    "# ds_cutted_Wrong = ds_importedW.reduce(cut_summary)\n",
    "# ds_cutted_Wrong.Print()\n",
    "\n",
    "fileOUT = ROOT.TFile(f'cutted_OMB.root', 'recreate')\n",
    "ds_cutted_Right      .GetClonedTree().Write()\n",
    "# ds_cutted_Wrong      .GetClonedTree().Write()\n",
    "fileOUT.Close()"
   ]
  },
  {
   "cell_type": "code",
   "execution_count": 16,
   "metadata": {},
   "outputs": [
    {
     "data": {
      "image/png": "[encoded data removed]",
      "text/plain": [
       "<IPython.core.display.Image object>"
      ]
     },
     "metadata": {
      "image/png": {
       "width": 550
      }
     },
     "output_type": "display_data"
    },
    {
     "name": "stderr",
     "output_type": "stream",
     "text": [
      "Warning in <TCanvas::Constructor>: Deleting canvas with same name: cB\n",
      "Info in <TCanvas::Print>: png file images/png/test_for_output_ds.png has been created\n",
      "Info in <TCanvas::Print>: pdf file images/pdf/test_for_output_ds.pdf has been created\n"
     ]
    }
   ],
   "source": [
    "bufram = OMG_mass_old.frame(100)\n",
    "\n",
    "if CMS_picture == True:\n",
    "    CMS_style.setTDRStyle()\n",
    "\n",
    "_MYW = 800\n",
    "_MYH = 600\n",
    "_MYT = 0.08*_MYH\n",
    "_MYB = 0.14*_MYH\n",
    "_MYL = 0.15*_MYW\n",
    "_MYR = 0.04*_MYW\n",
    "\n",
    "cB = ROOT.TCanvas('cB','cB',_MYW,_MYH)\n",
    "\n",
    "cB.SetLeftMargin( _MYL/_MYW )\n",
    "cB.SetRightMargin( _MYR/_MYW )\n",
    "cB.SetTopMargin( _MYT/_MYH )\n",
    "cB.SetBottomMargin( _MYB/_MYH )\n",
    "cB.SetTickx(0)\n",
    "cB.SetTicky(0)\n",
    "\n",
    "bufram.GetYaxis().SetTitleOffset(1.3)\n",
    "# ds_cutted_Wrong.plotOn(bufram, ROOT.RooFit.DrawOption('B'), ROOT.RooFit.DataError(2), \n",
    "#                   ROOT.RooFit.Name('wrong_sign'),\n",
    "#                   ROOT.RooFit.FillColor(ROOT.kGray), ROOT.RooFit.XErrorSize(0))\n",
    "ds_cutted_Right.plotOn(bufram, ROOT.RooFit.MarkerSize(0.6), ROOT.RooFit.Name('data'))\n",
    "bufram.Draw()\n",
    "# bufram.Draw()\n",
    "\n",
    "if CMS_picture == True:\n",
    "    CMS_style.CMS_lumi( cB, 0 if isMC==1 else 4, 0 ); ## 2nd argument = 0 for MC\n",
    "    cB.Update(); cB.RedrawAxis(); cB.GetFrame().Draw();\n",
    "\n",
    "# leg = ROOT.TLegend(0.8,0.71,0.95,0.91)\n",
    "# # leg = ROOT.TLegend(0.17\n",
    "# leg.SetTextFont(42)\n",
    "# leg.SetTextSize(0.05)\n",
    "# # leg.AddEntry(bufram.findObject('data')      ,'data'               , 'ep')\n",
    "# # leg.AddEntry(bufram.findObject('wrong_sign'),'#LambdaK^{+}', 'f')\n",
    "# leg.Draw('same')\n",
    "\n",
    "l = ROOT.TLine(1.67245, 0, 1.67245, 200)\n",
    "l.SetLineWidth(1)\n",
    "l.SetLineColor(ROOT.kBlue)\n",
    "l.Draw()\n",
    "\n",
    "# lb = ROOT.TLine(6.0461, 0, 6.0461, 5)\n",
    "# lb.SetLineWidth(1)\n",
    "# lb.SetLineColor(ROOT.kBlue)\n",
    "# lb.Draw()\n",
    "\n",
    "cB.SaveAs('images/png/test_for_output_ds.png')\n",
    "cB.SaveAs('images/pdf/test_for_output_ds.pdf')\n",
    "display(Image(filename = 'images/png/test_for_output_ds.png', retina = False, width = 550))"
   ]
  },
  {
   "cell_type": "code",
   "execution_count": 79,
   "metadata": {},
   "outputs": [
    {
     "name": "stdout",
     "output_type": "stream",
     "text": [
      "RooDataSet::dataR[OMG_mass_old,OMB_pt_Cjp,OMG_OMBcos2,OMB_pvcos2_Cjp,OMB_pvdistsignif2_Cjp,OMB_mass_Cjp_old,OMG_KA_pt_CV,OMG_pt,OMG_KA_ips,LAM_mass,LAM_OMGcos2_CL,XI_lamk_mass,XB_mass,LAM_pt,Jpsi_Psi2S_mass_Cmumu,LAM_OMGdistsignif3,OMG_OMBdistsignif3,OMB_vtxprob_Cjp,LAM_PR_pt] = 191 entries\n",
      "RooDataSet::dataW[OMG_mass_old,OMB_pt_Cjp,OMG_OMBcos2,OMB_pvcos2_Cjp,OMB_pvdistsignif2_Cjp,OMB_mass_Cjp_old,OMG_KA_pt_CV,OMG_pt,OMG_KA_ips,LAM_mass,LAM_OMGcos2_CL,XI_lamk_mass,XB_mass,LAM_pt,Jpsi_Psi2S_mass_Cmumu,LAM_OMGdistsignif3,OMG_OMBdistsignif3,OMB_vtxprob_Cjp,LAM_PR_pt] = 76 entries\n"
     ]
    }
   ],
   "source": [
    "# bmin = 1.62\n",
    "# bmax = 1.74\n",
    "# Nbin = 60\n",
    "# Omega_m.setMin(bmin)\n",
    "# Omega_m.setMax(bmax)\n",
    "# cut_binning = f'OMG_mass_old > {bmin} && OMG_mass_old < {bmax}'\n",
    "\n",
    "bmin = 5.85\n",
    "bmax = 6.25\n",
    "Nbin = 40\n",
    "OMB_mass_Cjp_old.setMin(bmin)\n",
    "OMB_mass_Cjp_old.setMax(bmax)\n",
    "cut_binning = f'OMB_mass_Cjp_old > {bmin} && OMB_mass_Cjp_old < {bmax}'\n",
    "\n",
    "ds = ds_cutted_Right.reduce(cut_binning)\n",
    "ds.Print()\n",
    "dsW = ds_cutted_Wrong.reduce(cut_binning)\n",
    "dsW.Print()\n",
    "\n",
    "# S_mean_0 = 1.67 # initial mean of signal \n",
    "S_mean_0 = 6.05 # initial mean of signal \n",
    "S_0 = 20  # initial number of signal events\n",
    "\n",
    "# limits for number of signal events for fitting\n",
    "S_upper = 500\n",
    "S_lower = 0\n",
    "\n",
    "S       = ROOT.RooRealVar ( 'N_Signal'      , 'Signal'  , S_0      , S_lower , S_upper)\n",
    "\n",
    "S1_mean = ROOT.RooRealVar ( 'S1_mean', 'mean '   , S_mean_0 , S_mean_0-0.1, S_mean_0+0.1)\n",
    "S1_sigma= ROOT.RooRealVar ( 'S1_sigma','sigma'   , 0.006   , 0.000001   , 0.09   )\n",
    "\n",
    "pdfS1   = ROOT.RooGaussian( 'pdfS1'  , 'gaus'    , OMB_mass_Cjp_old  , S1_mean , S1_sigma)\n",
    "\n",
    "backgroung_Bernstein = 1\n",
    "if backgroung_Bernstein:  \n",
    "    B       = ROOT.RooRealVar   ( 'Bg'    , 'Back' , 40000 , 1     , 900000000)\n",
    "    B_c     = ROOT.RooRealVar   ( 'B_c'   , 'B_c ' , -2.3  , -20   , 100)\n",
    "    B_1     = ROOT.RooRealVar   ( 'B_1'   , 'B_1 ' , 0.1   , 0.0   , 1.0)\n",
    "    B_2     = ROOT.RooRealVar   ( 'B_2'   , 'B_2 ' , 0.1   , 0.0   , 1.0)\n",
    "    B_3     = ROOT.RooRealVar   ( 'B_3'   , 'B_3 ' , 0.1   , 0.0   , 1.0)\n",
    "    B_4     = ROOT.RooRealVar   ( 'B_3'   , 'B_3 ' , 0.1   , 0.0   , 1.0)\n",
    "    BX1     = ROOT.RooFormulaVar( 'BX1'   , 'BX1'  , '1.0 - @0'            , ROOT.RooArgList(B_1))\n",
    "    BX2     = ROOT.RooFormulaVar( 'BX2'   , 'BX2'  , '1.0 - @0 -@1'        , ROOT.RooArgList(B_1, B_2))\n",
    "    BX3     = ROOT.RooFormulaVar( 'BX3'   , 'BX3'  , '1.0 - @0 -@1 -@2'    , ROOT.RooArgList(B_1, B_2, B_3))\n",
    "    BX4     = ROOT.RooFormulaVar( 'BX4'   , 'BX4'  , '1.0 - @0 -@1 -@2 -@3', ROOT.RooArgList(B_1, B_2, B_3, B_4))\n",
    "    \n",
    "    if backgroung_Bernstein   == 1:\n",
    "        pdfB    = ROOT.RooBernstein('pdfB', 'pdfB' , OMB_mass_Cjp_old, ROOT.RooArgList(B_1, BX1)) \n",
    "    elif backgroung_Bernstein == 2:\n",
    "        pdfB    = ROOT.RooBernstein('pdfB', 'pdfB' , OMB_mass_Cjp_old, ROOT.RooArgList(B_1, B_2, BX2))\n",
    "    elif backgroung_Bernstein == 3:\n",
    "        pdfB    = ROOT.RooBernstein('pdfB', 'pdfB' , OMB_mass_Cjp_old, ROOT.RooArgList(B_1, B_2, B_3, BX3))\n",
    "    elif backgroung_Bernstein == 4:\n",
    "        pdfB    = ROOT.RooBernstein('pdfB', 'pdfB' , OMB_mass_Cjp_old, ROOT.RooArgList(B_1, B_2, B_3, B_4, BX4))\n",
    "\n",
    "alist1  = ROOT.RooArgList (pdfS1, pdfB)\n",
    "alist2  = ROOT.RooArgList (S, B)\n",
    "pdfSum  = ROOT.RooAddPdf  ('model', 'model', alist1, alist2)"
   ]
  },
  {
   "cell_type": "code",
   "execution_count": 59,
   "metadata": {},
   "outputs": [
    {
     "name": "stdout",
     "output_type": "stream",
     "text": [
      "1 fit done\n",
      "2 fit done\n",
      "3 fit done\n",
      "[#1] INFO:Minization -- p.d.f. provides expected number of events, including extended term in likelihood.\n",
      "[#1] INFO:Minization -- RooMinimizer::optimizeConst: activating const optimization\n",
      "[#1] INFO:Eval -- RooAbsTestStatistic::initMPMode: started 7 remote server process.\n",
      "[#1] INFO:Minization --  The following expressions have been identified as constant and will be precalculated and cached: (pdfS1)\n",
      "[#1] INFO:Minization --  The following expressions will be evaluated in cache-and-track mode: (pdfB)\n",
      "[#1] INFO:Minization --  The following expressions have been identified as constant and will be precalculated and cached: (pdfS1)\n",
      "[#1] INFO:Minization --  The following expressions will be evaluated in cache-and-track mode: (pdfB)\n",
      "[#1] INFO:Minization --  The following expressions have been identified as constant and will be precalculated and cached: (pdfS1)\n",
      "[#1] INFO:Minization --  The following expressions will be evaluated in cache-and-track mode: (pdfB)\n",
      "[#1] INFO:Minization --  The following expressions have been identified as constant and will be precalculated and cached: (pdfS1)\n",
      "[#1] INFO:Minization --  The following expressions will be evaluated in cache-and-track mode: (pdfB)\n",
      "[#1] INFO:Minization --  The following expressions have been identified as constant and will be precalculated and cached: (pdfS1)\n",
      "[#1] INFO:Minization --  The following expressions will be evaluated in cache-and-track mode: (pdfB)\n",
      "[#1] INFO:Minization --  The following expressions have been identified as constant and will be precalculated and cached: (pdfS1)\n",
      "[#1] INFO:Minization --  The following expressions will be evaluated in cache-and-track mode: (pdfB)\n",
      "[#1] INFO:Minization --  The following expressions have been identified as constant and will be precalculated and cached: (pdfS1)\n",
      "[#1] INFO:Minization --  The following expressions will be evaluated in cache-and-track mode: (pdfB)\n",
      "[#1] INFO:Minization -- RooMinimizer::optimizeConst: deactivating const optimization\n",
      "[#1] INFO:Minization -- p.d.f. provides expected number of events, including extended term in likelihood.\n",
      "[#1] INFO:Minization -- RooMinimizer::optimizeConst: activating const optimization\n",
      "[#1] INFO:Eval -- RooAbsTestStatistic::initMPMode: started 7 remote server process.\n",
      "[#1] INFO:Minization --  The following expressions will be evaluated in cache-and-track mode: (pdfS1,pdfB)\n",
      "[#1] INFO:Minization --  The following expressions will be evaluated in cache-and-track mode: (pdfS1,pdfB)\n",
      "[#1] INFO:Minization --  The following expressions will be evaluated in cache-and-track mode: (pdfS1,pdfB)\n",
      "[#1] INFO:Minization --  The following expressions will be evaluated in cache-and-track mode: (pdfS1,pdfB)\n",
      "[#1] INFO:Minization --  The following expressions will be evaluated in cache-and-track mode: (pdfS1,pdfB)\n",
      "[#1] INFO:Minization --  The following expressions will be evaluated in cache-and-track mode: (pdfS1,pdfB)\n",
      "[#1] INFO:Minization --  The following expressions will be evaluated in cache-and-track mode: (pdfS1,pdfB)\n",
      "[#1] INFO:Minization -- RooMinimizer::optimizeConst: deactivating const optimization\n",
      "[#1] INFO:Minization -- p.d.f. provides expected number of events, including extended term in likelihood.\n",
      "[#1] INFO:Minization -- RooMinimizer::optimizeConst: activating const optimization\n",
      "[#1] INFO:Eval -- RooAbsTestStatistic::initMPMode: started 7 remote server process.\n",
      "[#1] INFO:Minization --  The following expressions will be evaluated in cache-and-track mode: (pdfS1,pdfB)\n",
      "[#1] INFO:Minization --  The following expressions will be evaluated in cache-and-track mode: (pdfS1,pdfB)\n",
      "[#1] INFO:Minization --  The following expressions will be evaluated in cache-and-track mode: (pdfS1,pdfB)\n",
      "[#1] INFO:Minization --  The following expressions will be evaluated in cache-and-track mode: (pdfS1,pdfB)\n",
      "[#1] INFO:Minization --  The following expressions will be evaluated in cache-and-track mode: (pdfS1,pdfB)\n",
      "[#1] INFO:Minization --  The following expressions will be evaluated in cache-and-track mode: (pdfS1,pdfB)\n",
      "[#1] INFO:Minization --  The following expressions will be evaluated in cache-and-track mode: (pdfS1,pdfB)\n",
      "[#1] INFO:Minization -- RooMinimizer::optimizeConst: deactivating const optimization\n",
      "[#1] INFO:Minization -- p.d.f. provides expected number of events, including extended term in likelihood.\n",
      "[#1] INFO:Minization -- RooMinimizer::optimizeConst: activating const optimization\n",
      "[#1] INFO:Eval -- RooAbsTestStatistic::initMPMode: started 7 remote server process.\n",
      "[#1] INFO:Minization --  The following expressions will be evaluated in cache-and-track mode: (pdfS1,pdfB)\n",
      "[#1] INFO:Minization --  The following expressions will be evaluated in cache-and-track mode: (pdfS1,pdfB)\n",
      "[#1] INFO:Minization --  The following expressions will be evaluated in cache-and-track mode: (pdfS1,pdfB)\n",
      "[#1] INFO:Minization --  The following expressions will be evaluated in cache-and-track mode: (pdfS1,pdfB)\n",
      "[#1] INFO:Minization --  The following expressions will be evaluated in cache-and-track mode: (pdfS1,pdfB)\n",
      "[#1] INFO:Minization --  The following expressions will be evaluated in cache-and-track mode: (pdfS1,pdfB)\n",
      "[#1] INFO:Minization --  The following expressions will be evaluated in cache-and-track mode: (pdfS1,pdfB)\n",
      "[#1] INFO:Minization -- RooMinimizer::optimizeConst: deactivating const optimization\n",
      "\n",
      "  RooFitResult: minimized FCN value: -1025.4, estimated distance to minimum: 3.67714e-07\n",
      "                covariance matrix quality: Full, accurate covariance matrix\n",
      "                Status : MINIMIZE=0 HESSE=0 \n",
      "\n",
      "    Floating Parameter    FinalValue +/-  Error   \n",
      "  --------------------  --------------------------\n",
      "                   B_1    6.8006e-01 +/-  7.63e-02\n",
      "                    Bg    1.4147e+02 +/-  1.32e+01\n",
      "              N_Signal    4.9529e+01 +/-  9.05e+00\n",
      "               S1_mean    6.0467e+00 +/-  2.38e-03\n",
      "              S1_sigma    1.1884e-02 +/-  2.40e-03\n",
      "\n"
     ]
    }
   ],
   "source": [
    "S1_sigma.setConstant(True)\n",
    "S1_mean.setConstant(True);\n",
    "\n",
    "rrr = pdfSum.fitTo(ds, ROOT.RooFit.NumCPU(7), ROOT.RooFit.PrintLevel(-1), ROOT.RooFit.Save())\n",
    "print('1 fit done')\n",
    "\n",
    "S1_sigma.setConstant(False)\n",
    "\n",
    "rrr = pdfSum.fitTo(ds, ROOT.RooFit.NumCPU(7), ROOT.RooFit.PrintLevel(-1), ROOT.RooFit.Save())\n",
    "print('2 fit done')\n",
    "\n",
    "S1_mean.setConstant(False)\n",
    "rrr = pdfSum.fitTo(ds, ROOT.RooFit.NumCPU(7), ROOT.RooFit.PrintLevel(-1), ROOT.RooFit.Save())\n",
    "print('3 fit done')\n",
    "\n",
    "rrr = pdfSum.fitTo(ds, ROOT.RooFit.NumCPU(7), ROOT.RooFit.PrintLevel(-1), ROOT.RooFit.Save())\n",
    "rrr.Print()"
   ]
  },
  {
   "cell_type": "code",
   "execution_count": 60,
   "metadata": {},
   "outputs": [
    {
     "name": "stderr",
     "output_type": "stream",
     "text": [
      "Warning in <TCanvas::Constructor>: Deleting canvas with same name: cB\n"
     ]
    }
   ],
   "source": [
    "if CMS_picture == True:\n",
    "    CMS_style.setTDRStyle()\n",
    "\n",
    "_MYW = 960\n",
    "_MYH = 720\n",
    "_MYT = 0.08 * _MYH\n",
    "_MYB = 0.14 * _MYH\n",
    "_MYL = 0.15 * _MYW\n",
    "_MYR = 0.04 * _MYW\n",
    "\n",
    "cB = ROOT.TCanvas('cB','cB', _MYW, _MYH)\n",
    "_MYcanvName = f'my_run_test_Omegab_3'\n",
    "\n",
    "cB.SetLeftMargin( _MYL/_MYW )\n",
    "cB.SetRightMargin( _MYR/_MYW )\n",
    "cB.SetTopMargin( _MYT/_MYH )\n",
    "cB.SetBottomMargin( _MYB/_MYH )\n",
    "cB.SetTickx(0)\n",
    "cB.SetTicky(0)\n",
    "\n",
    "Sign = S.getVal() / S.getError()\n",
    "S_str_c = 'N_{signal} = ' + str(round(S.getVal(), 1)) + ' #pm ' + str(round(S.getError(), 1))\n",
    "M_str_c = 'M = ' + str(round(1000 * S1_mean.getVal(), 2)) + r' #pm ' + str(round(1000 * S1_mean.getError(), 2)) + ' MeV'\n",
    "sign_str_c = '#frac{N_{signal}}{#sigma_{N_{signal}}} = ' + str(round(Sign, 2))  \n",
    "sigmaG_str_c = '#sigma_{Gauss} = ' + str(round(1000 * S1_sigma.getVal(), 2)) + r' #pm ' + str(round(1000 * S1_sigma.getError(), 2)) + ' MeV'"
   ]
  },
  {
   "cell_type": "code",
   "execution_count": 61,
   "metadata": {},
   "outputs": [
    {
     "data": {
      "image/png": "[encoded data removed]",
      "text/plain": [
       "<IPython.core.display.Image object>"
      ]
     },
     "metadata": {
      "image/png": {
       "width": 600
      }
     },
     "output_type": "display_data"
    },
    {
     "name": "stdout",
     "output_type": "stream",
     "text": [
      "[#1] INFO:Plotting -- RooPlot::updateFitRangeNorm: New event count of 191 will supercede previous event count of 76 for normalization of PDF projections\n",
      "[#1] INFO:Plotting -- RooAbsPdf::plotOn(model) only plotting range [5.85,6.25], curve is normalized to data in given given range\n",
      "[#1] INFO:NumericIntegration -- RooRealIntegral::init(model_Int[OMB_mass_Cjp_old|plotRange]_Norm[OMB_mass_Cjp_old]) using numeric integrator RooIntegrator1D to calculate Int(OMB_mass_Cjp_old)\n",
      "[#1] INFO:Plotting -- RooAbsPdf::plotOn(model) directly selected PDF components: (pdfB)\n",
      "[#1] INFO:Plotting -- RooAbsPdf::plotOn(model) indirectly selected PDF components: (BX1)\n",
      "[#1] INFO:Plotting -- RooAbsPdf::plotOn(model) directly selected PDF components: (pdfS1)\n",
      "[#1] INFO:Plotting -- RooAbsPdf::plotOn(model) indirectly selected PDF components: ()\n"
     ]
    },
    {
     "name": "stderr",
     "output_type": "stream",
     "text": [
      "Info in <TCanvas::Print>: png file images/png/my_run_test_Omegab_3.png has been created\n",
      "Info in <TCanvas::Print>: pdf file images/pdf/my_run_test_Omegab_3.pdf has been created\n"
     ]
    }
   ],
   "source": [
    "bufram = OMB_mass_Cjp_old.frame(40);\n",
    "bufram.GetXaxis().SetTitleOffset(1.0)\n",
    "bufram.GetYaxis().SetTitleOffset(1.3)\n",
    "dsW.plotOn(bufram, ROOT.RooFit.DrawOption('B'), ROOT.RooFit.DataError(2),\n",
    "                  ROOT.RooFit.FillColor(ROOT.kGray), ROOT.RooFit.XErrorSize(0), ROOT.RooFit.Name('wrong_sign'))\n",
    "ds.plotOn(bufram, ROOT.RooFit.MarkerSize(0.6), ROOT.RooFit.Name('data'))\n",
    "\n",
    "pdfSum.plotOn(  bufram,     ROOT.RooFit.LineColor(2),\n",
    "                            ROOT.RooFit.LineStyle(1),\n",
    "                            ROOT.RooFit.LineWidth(3),\n",
    "                            ROOT.RooFit.Name('fit'),\n",
    "                            ROOT.RooFit.Range(bmin, bmax) )\n",
    "\n",
    "pdfSum.plotOn(  bufram,     ROOT.RooFit.Components('pdfB'),\n",
    "                            ROOT.RooFit.LineColor(9),\n",
    "                            ROOT.RooFit.LineStyle(2),\n",
    "                            ROOT.RooFit.LineWidth(2),\n",
    "#                             ROOT.RooFit.DrawOption('F'),\n",
    "#                             ROOT.RooFit.FillColor(ROOT.kGreen),\n",
    "                            ROOT.RooFit.Name('bkgr'))\n",
    "\n",
    "\n",
    "pdfSum.plotOn(  bufram,     ROOT.RooFit.Components('pdfS1'),\n",
    "                                ROOT.RooFit.LineColor(ROOT.kGreen+2),\n",
    "                                ROOT.RooFit.LineStyle(5),\n",
    "                                ROOT.RooFit.LineWidth(2),\n",
    "#                                 ROOT.RooFit.DrawOption('F'),\n",
    "#                                 ROOT.RooFit.FillColor(ROOT.kGreen),\n",
    "#               ,ROOT.RooFit.Range(S1_mean.getVal()-5.0*sigma_eff, S1_mean.getVal()+5.0*sigma_eff)  \n",
    "                                ROOT.RooFit.Name('sign')\n",
    "                 )\n",
    "\n",
    "# pdfSum_Jpsi.plotOn(  bufram,    ROOT.RooFit.Components('pdfS1_Jpsi'),\n",
    "#                                 ROOT.RooFit.LineColor(ROOT.kBlue + 2),\n",
    "#                                 ROOT.RooFit.LineStyle(5),\n",
    "#                                 ROOT.RooFit.LineWidth(2),\n",
    "#                                 ROOT.RooFit.Name('sign_Jspi')\n",
    "# #               ,ROOT.RooFit.Range(S1_mean.getVal()-5.0*sigma_eff, S1_mean.getVal()+5.0*sigma_eff)  \n",
    "#                  )\n",
    "\n",
    "# pdfSum_Psi2S.plotOn(  bufram,   ROOT.RooFit.Components('pdfS1_Psi2S'),\n",
    "#                                 ROOT.RooFit.LineColor(ROOT.kGreen - 2),\n",
    "#                                 ROOT.RooFit.LineStyle(5),\n",
    "#                                 ROOT.RooFit.LineWidth(2),\n",
    "#                                 ROOT.RooFit.Name('sign_Psi2S')\n",
    "# #               ,ROOT.RooFit.Range(S1_mean.getVal()-5.0*sigma_eff, S1_mean.getVal()+5.0*sigma_eff)  \n",
    "#                  )\n",
    "\n",
    "# ds.plotOn( bufram, ROOT.RooFit.MarkerSize(0.6), ROOT.RooFit.Name('data'))\n",
    "\n",
    "# bufram.SetTitle('')##nn\n",
    "\n",
    "# pdfSum.paramOn(bufram, ROOT.RooFit.Layout(0.58, 0.96, 0.92))\n",
    "\n",
    "# bufram.SetTitle('S='+str(round(S.getVal(),2))[:8]+'#pm'+str(round(S.getError(),2))[:5]+'\\n M='+str(1000*S1_mean.getVal())[:7]+'#pm'+str(round(1000*S1_mean.getError(),2))[:5] + '\\n S/dS=' + str(round(Sign,1)))\n",
    "# # +'\\n dM=' + str(round(Delta_M, 2))\n",
    "# hist_Wrong.plotOn(bufram, ROOT.RooFit.DrawOption('B'), \n",
    "#                   ROOT.RooFit.FillColor(ROOT.kGray), ROOT.RooFit.XErrorSize(0)) \n",
    "bufram.Draw()\n",
    "\n",
    "# leg = ROOT.TLegend(0.47,0.6,0.65,0.9)\n",
    "leg = ROOT.TLegend(0.17,0.6,0.35,0.9)\n",
    "leg.SetTextFont(42)\n",
    "leg.SetTextSize(0.05)\n",
    "leg.AddEntry(bufram.findObject('data')      ,'Data'               , 'ep')\n",
    "leg.AddEntry(bufram.findObject('fit')       ,'Fit'                , 'l')\n",
    "leg.AddEntry(bufram.findObject('sign')      ,'#Omega^{-} signal'             , 'l')\n",
    "leg.AddEntry(bufram.findObject('bkgr')  ,'Comb. Bkg', 'l')\n",
    "leg.AddEntry(bufram.findObject('wrong_sign'),'#Lambda K^{+}', 'f')\n",
    "leg.Draw('same')\n",
    "\n",
    "if CMS_picture == True:\n",
    "    CMS_style.CMS_lumi( cB, 0 if isMC==1 else 4, 0 ); ## 2nd argument = 0 for MC\n",
    "    cB.Update(); cB.RedrawAxis(); cB.GetFrame().Draw();\n",
    "\n",
    "# text_com = ROOT.TPaveText(0.15, 0.9195, 0.45, 0.75, 'NBNDC')\n",
    "text_com = ROOT.TPaveText(0.68, 0.9195, 0.958, 0.75, 'NBNDC')\n",
    "# text_com = ROOT.TPaveText(0.68, 0.4, 0.958, 0.14, 'NBNDC')\n",
    "# text_com.SetLabel('Fit results:')\n",
    "text_com.SetTextFont(42)\n",
    "text_com.SetTextSize(0.035)\n",
    "text_com.AddText(S_str_c)\n",
    "# # text_com.AddText(S_Jpsi_str_c)\n",
    "# # text_com.AddText(S_Psi2S_str_c)\n",
    "text_com.AddText(M_str_c)\n",
    "text_com.AddText(sigmaG_str_c)\n",
    "# text_com.AddText(sign_str_c)\n",
    "# text_com.AddText(delta_str_c)\n",
    "text_com.SetBorderSize(1);\n",
    "text_com.SetFillColor(0);\n",
    "text_com.Draw('same');\n",
    "\n",
    "# l = ROOT.TLine(1.67245, 0, 1.67245, 30)\n",
    "# l.SetLineWidth(1)\n",
    "# l.SetLineColor(ROOT.kBlue)\n",
    "# l.Draw()\n",
    "\n",
    "cB.SaveAs(path_png + _MYcanvName + '.png')\n",
    "cB.SaveAs(path_pdf + _MYcanvName + '.pdf')\n",
    "display(Image(filename = path_png + _MYcanvName + '.png', retina = False, width = 600))"
   ]
  },
  {
   "cell_type": "code",
   "execution_count": 62,
   "metadata": {},
   "outputs": [
    {
     "name": "stdout",
     "output_type": "stream",
     "text": [
      "Signif = 5.596266907356292\n",
      "[#1] INFO:Minization -- RooMinimizer::optimizeConst: activating const optimization\n",
      "[#1] INFO:Eval -- RooAbsTestStatistic::initMPMode: started 4 remote server process.\n",
      "[#1] INFO:Minization --  The following expressions will be evaluated in cache-and-track mode: (pdfS1,pdfB)\n",
      "[#1] INFO:Minization --  The following expressions will be evaluated in cache-and-track mode: (pdfS1,pdfB)\n",
      "[#1] INFO:Minization --  The following expressions will be evaluated in cache-and-track mode: (pdfS1,pdfB)\n",
      "[#1] INFO:Minization --  The following expressions will be evaluated in cache-and-track mode: (pdfS1,pdfB)\n",
      "[#1] INFO:Minization -- RooMinimizer::optimizeConst: deactivating const optimization\n",
      "[#1] INFO:Minization -- RooMinimizer::optimizeConst: activating const optimization\n",
      "[#1] INFO:Eval -- RooAbsTestStatistic::initMPMode: started 4 remote server process.\n",
      "[#1] INFO:Minization --  The following expressions will be evaluated in cache-and-track mode: (pdfS1,pdfB)\n",
      "[#1] INFO:Minization --  The following expressions will be evaluated in cache-and-track mode: (pdfS1,pdfB)\n",
      "[#1] INFO:Minization --  The following expressions will be evaluated in cache-and-track mode: (pdfS1,pdfB)\n",
      "[#1] INFO:Minization --  The following expressions will be evaluated in cache-and-track mode: (pdfS1,pdfB)\n",
      "[#1] INFO:Minization -- RooMinimizer::optimizeConst: deactivating const optimization\n",
      "[#1] INFO:Minization -- RooMinimizer::optimizeConst: activating const optimization\n",
      "[#1] INFO:Eval -- RooAbsTestStatistic::initMPMode: started 4 remote server process.\n",
      "[#1] INFO:Minization --  The following expressions will be evaluated in cache-and-track mode: (pdfS1,pdfB)\n",
      "[#1] INFO:Minization --  The following expressions will be evaluated in cache-and-track mode: (pdfS1,pdfB)\n",
      "[#1] INFO:Minization --  The following expressions will be evaluated in cache-and-track mode: (pdfS1,pdfB)\n",
      "[#1] INFO:Minization --  The following expressions will be evaluated in cache-and-track mode: (pdfS1,pdfB)\n",
      "[#1] INFO:Minization -- RooMinimizer::optimizeConst: deactivating const optimization\n"
     ]
    }
   ],
   "source": [
    "LS = rrr.minNll()\n",
    "binN1 = rrr.floatParsFinal().getSize()\n",
    "# S2_mean.setConstant(True)\n",
    "# S3_sigma.setConstant(True)\n",
    "#S2_sigma.setConstant(True)\n",
    "#S2_frac.setConstant(True) \n",
    "# S2_sigma.setConstant(True)\n",
    "S1_sigma.setConstant(True)\n",
    "# S2_frac.setConstant(True)\n",
    "\n",
    "S.setVal(0)\n",
    "S.setConstant(True)\n",
    "\n",
    "rrr = pdfSum.fitTo( ds, ROOT.RooFit.NumCPU(4), ROOT.RooFit.PrintLevel(-1), ROOT.RooFit.Save(), ROOT.RooFit.Extended(True))\n",
    "rrr = pdfSum.fitTo( ds, ROOT.RooFit.NumCPU(4), ROOT.RooFit.PrintLevel(-1), ROOT.RooFit.Save(), ROOT.RooFit.Extended(True))\n",
    "rrr = pdfSum.fitTo( ds, ROOT.RooFit.NumCPU(4), ROOT.RooFit.PrintLevel(-1), ROOT.RooFit.Save(), ROOT.RooFit.Extended(True))\n",
    "\n",
    "L0 = rrr.minNll()\n",
    "\n",
    "prob = ROOT.TMath.Prob(L0-LS, 2 )\n",
    "print('Signif =', ROOT.TMath.ErfcInverse (prob) * np.sqrt(2.))"
   ]
  },
  {
   "cell_type": "code",
   "execution_count": null,
   "metadata": {},
   "outputs": [],
   "source": []
  },
  {
   "cell_type": "code",
   "execution_count": null,
   "metadata": {},
   "outputs": [],
   "source": []
  }
 ],
 "metadata": {
  "kernelspec": {
   "display_name": "Python 3",
   "language": "python",
   "name": "python3"
  },
  "language_info": {
   "codemirror_mode": {
    "name": "ipython",
    "version": 3
   },
   "file_extension": ".py",
   "mimetype": "text/x-python",
   "name": "python",
   "nbconvert_exporter": "python",
   "pygments_lexer": "ipython3",
   "version": "3.7.3"
  }
 },
 "nbformat": 4,
 "nbformat_minor": 4
}
